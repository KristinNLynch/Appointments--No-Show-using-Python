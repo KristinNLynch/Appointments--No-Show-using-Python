{
 "cells": [
  {
   "cell_type": "markdown",
   "metadata": {},
   "source": [
    "# Project: Investigating No-Show Appointments in Brazil\n",
    "\n",
    "## Table of Contents\n",
    "<ul>\n",
    "<li><a href=\"#intro\">Introduction</a></li>\n",
    "<li><a href=\"#wrangling\">Data Wrangling</a></li>\n",
    "<li><a href=\"#eda\">Exploratory Data Analysis</a></li>\n",
    "<li><a href=\"#conclusions\">Conclusions</a></li>\n",
    "</ul>"
   ]
  },
  {
   "cell_type": "markdown",
   "metadata": {},
   "source": [
    "<a id='intro'></a>\n",
    "## Introduction\n",
    "\n",
    "> This data set represents appointments that patients did or did not show up for in Brazil. This categorizes patients by multiple conditions, ages, gender and even if they receive aid. \n",
    ">\n",
    "> For this data set, there will be three questions addressed. First, it will address whether or not alcoholism leads to more missed appointments. Second, it will determine if any age groups miss more appointments than others. Finally, it will look at differences in gender. "
   ]
  },
  {
   "cell_type": "markdown",
   "metadata": {},
   "source": [
    "> This section includes: loading the packages needed for the analysis. "
   ]
  },
  {
   "cell_type": "code",
   "execution_count": 1,
   "metadata": {},
   "outputs": [],
   "source": [
    "#import the packages and assign an alias:\n",
    "\n",
    "import unicodecsv\n",
    "import pandas as pd\n",
    "import matplotlib.pyplot as plt\n",
    "import numpy as np\n",
    "import seaborn as sns\n",
    "\n",
    "#Show graphs inline\n",
    "%matplotlib inline\n",
    "\n"
   ]
  },
  {
   "cell_type": "markdown",
   "metadata": {},
   "source": [
    "<a id='wrangling'></a>\n",
    "## Data Wrangling\n",
    "\n",
    "> This section of the report will load the data, check for cleanliness, trim and clean the dataset. \n"
   ]
  },
  {
   "cell_type": "code",
   "execution_count": 2,
   "metadata": {},
   "outputs": [
    {
     "name": "stdout",
     "output_type": "stream",
     "text": [
      "No Show Appointments: [{'PatientId': '2.98725E+13', 'AppointmentID': '5642903', 'Gender': 'F', 'ScheduledDay': '2016-04-29T18:38:08Z', 'AppointmentDay': '2016-04-29T00:00:00Z', 'Age': '62', 'Neighbourhood': 'JARDIM DA PENHA', 'Scholarship': '0', 'Hipertension': '1', 'Diabetes': '0', 'Alcoholism': '0', 'Handcap': '0', 'SMS_received': '0', 'No-show': 'No'}, {'PatientId': '5.58998E+14', 'AppointmentID': '5642503', 'Gender': 'M', 'ScheduledDay': '2016-04-29T16:08:27Z', 'AppointmentDay': '2016-04-29T00:00:00Z', 'Age': '56', 'Neighbourhood': 'JARDIM DA PENHA', 'Scholarship': '0', 'Hipertension': '0', 'Diabetes': '0', 'Alcoholism': '0', 'Handcap': '0', 'SMS_received': '0', 'No-show': 'No'}, {'PatientId': '4.26296E+12', 'AppointmentID': '5642549', 'Gender': 'F', 'ScheduledDay': '2016-04-29T16:19:04Z', 'AppointmentDay': '2016-04-29T00:00:00Z', 'Age': '62', 'Neighbourhood': 'MATA DA PRAIA', 'Scholarship': '0', 'Hipertension': '0', 'Diabetes': '0', 'Alcoholism': '0', 'Handcap': '0', 'SMS_received': '0', 'No-show': 'No'}, {'PatientId': '8.67951E+11', 'AppointmentID': '5642828', 'Gender': 'F', 'ScheduledDay': '2016-04-29T17:29:31Z', 'AppointmentDay': '2016-04-29T00:00:00Z', 'Age': '8', 'Neighbourhood': 'PONTAL DE CAMBURI', 'Scholarship': '0', 'Hipertension': '0', 'Diabetes': '0', 'Alcoholism': '0', 'Handcap': '0', 'SMS_received': '0', 'No-show': 'No'}, {'PatientId': '8.84119E+12', 'AppointmentID': '5642494', 'Gender': 'F', 'ScheduledDay': '2016-04-29T16:07:23Z', 'AppointmentDay': '2016-04-29T00:00:00Z', 'Age': '56', 'Neighbourhood': 'JARDIM DA PENHA', 'Scholarship': '0', 'Hipertension': '1', 'Diabetes': '1', 'Alcoholism': '0', 'Handcap': '0', 'SMS_received': '0', 'No-show': 'No'}]\n"
     ]
    }
   ],
   "source": [
    "#Open and Read the file. \n",
    "\n",
    "noshow_filename = '/Users/knico/OneDrive/Documents/Python Scripts/noshowappointments-kagglev2-may-2016.csv'\n",
    "    \n",
    "def open_files(my_name):\n",
    "    with open(my_name , 'rb') as f:\n",
    "        reader = unicodecsv.DictReader(f)\n",
    "        return list(reader)\n",
    "\n",
    "#use the open_files function to opent the file.    \n",
    "\n",
    "no_show_appointments = open_files(noshow_filename)\n",
    "\n",
    "# Print a line of the no show appointment file.\n",
    "\n",
    "print('No Show Appointments:', no_show_appointments[0:5])\n"
   ]
  },
  {
   "cell_type": "code",
   "execution_count": 3,
   "metadata": {},
   "outputs": [
    {
     "name": "stdout",
     "output_type": "stream",
     "text": [
      "      PatientId  AppointmentID Gender          ScheduledDay  \\\n",
      "0  2.987250e+13        5642903      F  2016-04-29T18:38:08Z   \n",
      "1  5.589980e+14        5642503      M  2016-04-29T16:08:27Z   \n",
      "2  4.262960e+12        5642549      F  2016-04-29T16:19:04Z   \n",
      "\n",
      "         AppointmentDay  Age    Neighbourhood  Scholarship  Hipertension  \\\n",
      "0  2016-04-29T00:00:00Z   62  JARDIM DA PENHA            0             1   \n",
      "1  2016-04-29T00:00:00Z   56  JARDIM DA PENHA            0             0   \n",
      "2  2016-04-29T00:00:00Z   62    MATA DA PRAIA            0             0   \n",
      "\n",
      "   Diabetes  Alcoholism  Handcap  SMS_received No-show  \n",
      "0         0           0        0             0      No  \n",
      "1         0           0        0             0      No  \n",
      "2         0           0        0             0      No  \n"
     ]
    }
   ],
   "source": [
    "# Create a pandas dataframe and view the first 3 lines.\n",
    "#have Pandas return the first 3 rows.\n",
    "df_noshow = pd.read_csv(noshow_filename)\n",
    "print(df_noshow.head(3))"
   ]
  },
  {
   "cell_type": "markdown",
   "metadata": {},
   "source": [
    "### Data Cleaning\n",
    "\n",
    "> 1) Review then Update the Data Types <br>\n",
    "> 2) Find and clean bad data.<br>\n",
    "\n",
    "<ul>\n",
    "<li><a href=\"#DataTypes\">Data Types</a></li>\n",
    "<li><a href=\"#BadData\">Find and Clean Bad Data</a></li>\n",
    "</ul>\n",
    "\n"
   ]
  },
  {
   "cell_type": "markdown",
   "metadata": {},
   "source": [
    "<a id='DataTypes'></a>\n",
    "#### Data Types\n",
    ">This section the data types are reviewed to see how they converted. <br>\n",
    ">There are some fields that will be used that are objects or numbers (int, float) and need to be converted to strings. <br>\n",
    ">When looking at the first few lines of data, the appointment ID and the Patient ID are changing to scientific formats. These items will not be used for any math. They will be converted to strings so they look neater. "
   ]
  },
  {
   "cell_type": "code",
   "execution_count": 4,
   "metadata": {},
   "outputs": [
    {
     "name": "stdout",
     "output_type": "stream",
     "text": [
      "<class 'pandas.core.frame.DataFrame'>\n",
      "RangeIndex: 110527 entries, 0 to 110526\n",
      "Data columns (total 14 columns):\n",
      " #   Column          Non-Null Count   Dtype  \n",
      "---  ------          --------------   -----  \n",
      " 0   PatientId       110527 non-null  float64\n",
      " 1   AppointmentID   110527 non-null  int64  \n",
      " 2   Gender          110527 non-null  object \n",
      " 3   ScheduledDay    110527 non-null  object \n",
      " 4   AppointmentDay  110527 non-null  object \n",
      " 5   Age             110527 non-null  int64  \n",
      " 6   Neighbourhood   110527 non-null  object \n",
      " 7   Scholarship     110527 non-null  int64  \n",
      " 8   Hipertension    110527 non-null  int64  \n",
      " 9   Diabetes        110527 non-null  int64  \n",
      " 10  Alcoholism      110527 non-null  int64  \n",
      " 11  Handcap         110527 non-null  int64  \n",
      " 12  SMS_received    110527 non-null  int64  \n",
      " 13  No-show         110527 non-null  object \n",
      "dtypes: float64(1), int64(8), object(5)\n",
      "memory usage: 11.8+ MB\n"
     ]
    }
   ],
   "source": [
    "# Display the data types and columns\n",
    "df_noshow.info()\n"
   ]
  },
  {
   "cell_type": "code",
   "execution_count": 5,
   "metadata": {},
   "outputs": [],
   "source": [
    "# This function will convert the data types\n",
    "def change_var_type(col_as_string, ctype):\n",
    "    if ctype == 'string':\n",
    "        new_type = df_noshow[col_as_string].astype(\"|S\")\n",
    "    if ctype == 'number':\n",
    "        new_type = df_noshow[col_as_string].astype(int)\n",
    "    return new_type\n",
    "        "
   ]
  },
  {
   "cell_type": "code",
   "execution_count": 6,
   "metadata": {},
   "outputs": [],
   "source": [
    "# This will convert the first few object, integer and float variables to string.\n",
    "\n",
    "df_noshow[\"PatientId\"] = change_var_type(\"PatientId\",'string')\n",
    "df_noshow[\"AppointmentID\"] = change_var_type(\"AppointmentID\",'string')\n",
    "df_noshow[\"Gender\"] = change_var_type(\"Gender\",'string')\n"
   ]
  },
  {
   "cell_type": "code",
   "execution_count": 7,
   "metadata": {},
   "outputs": [],
   "source": [
    "# The neighborhood is more difficult to convert. First, the non-ascii characters need to be removed.\n",
    "#Once removed, then the type can be changed.\n",
    "df_noshow.Neighbourhood.replace({r'[^\\x00-\\x7F]+':''}, regex=True, inplace=True)\n",
    "df_noshow[\"Neighbourhood\"] = change_var_type(\"Neighbourhood\",'string')\n"
   ]
  },
  {
   "cell_type": "code",
   "execution_count": 8,
   "metadata": {},
   "outputs": [
    {
     "name": "stdout",
     "output_type": "stream",
     "text": [
      "PatientId         b'558998000000000.0'\n",
      "AppointmentID               b'5642503'\n",
      "Gender                            b'M'\n",
      "ScheduledDay      2016-04-29T16:08:27Z\n",
      "AppointmentDay    2016-04-29T00:00:00Z\n",
      "Age                                 56\n",
      "Neighbourhood       b'JARDIM DA PENHA'\n",
      "Scholarship                          0\n",
      "Hipertension                         0\n",
      "Diabetes                             0\n",
      "Alcoholism                           0\n",
      "Handcap                              0\n",
      "SMS_received                         0\n",
      "No-show                             No\n",
      "Noshow2                              0\n",
      "Name: 1, dtype: object\n",
      "              PatientId AppointmentID Gender          ScheduledDay  \\\n",
      "0   b'29872500000000.0'    b'5642903'   b'F'  2016-04-29T18:38:08Z   \n",
      "1  b'558998000000000.0'    b'5642503'   b'M'  2016-04-29T16:08:27Z   \n",
      "2    b'4262960000000.0'    b'5642549'   b'F'  2016-04-29T16:19:04Z   \n",
      "3     b'867951000000.0'    b'5642828'   b'F'  2016-04-29T17:29:31Z   \n",
      "4    b'8841190000000.0'    b'5642494'   b'F'  2016-04-29T16:07:23Z   \n",
      "\n",
      "         AppointmentDay  Age         Neighbourhood  Scholarship  Hipertension  \\\n",
      "0  2016-04-29T00:00:00Z   62    b'JARDIM DA PENHA'            0             1   \n",
      "1  2016-04-29T00:00:00Z   56    b'JARDIM DA PENHA'            0             0   \n",
      "2  2016-04-29T00:00:00Z   62      b'MATA DA PRAIA'            0             0   \n",
      "3  2016-04-29T00:00:00Z    8  b'PONTAL DE CAMBURI'            0             0   \n",
      "4  2016-04-29T00:00:00Z   56    b'JARDIM DA PENHA'            0             1   \n",
      "\n",
      "   Diabetes  Alcoholism  Handcap  SMS_received No-show  Noshow2  \n",
      "0         0           0        0             0      No        0  \n",
      "1         0           0        0             0      No        0  \n",
      "2         0           0        0             0      No        0  \n",
      "3         0           0        0             0      No        0  \n",
      "4         1           0        0             0      No        0  \n"
     ]
    }
   ],
   "source": [
    "#A new column will be generated on Noshow as an integer so that is can be used for correlations later.\n",
    "\n",
    "df_noshow[\"Noshow2\"] = df_noshow[\"No-show\"].map({'Yes': '1', 'No': '0'})\n",
    "df_noshow[\"Noshow2\"] = pd.to_numeric(df_noshow[\"Noshow2\"])\n",
    "print(df_noshow.loc[1])\n",
    "print(df_noshow.head())"
   ]
  },
  {
   "cell_type": "code",
   "execution_count": 9,
   "metadata": {},
   "outputs": [
    {
     "name": "stdout",
     "output_type": "stream",
     "text": [
      "<class 'pandas.core.frame.DataFrame'>\n",
      "RangeIndex: 110527 entries, 0 to 110526\n",
      "Data columns (total 15 columns):\n",
      " #   Column          Non-Null Count   Dtype \n",
      "---  ------          --------------   ----- \n",
      " 0   PatientId       110527 non-null  |S32  \n",
      " 1   AppointmentID   110527 non-null  |S21  \n",
      " 2   Gender          110527 non-null  |S1   \n",
      " 3   ScheduledDay    110527 non-null  object\n",
      " 4   AppointmentDay  110527 non-null  object\n",
      " 5   Age             110527 non-null  int64 \n",
      " 6   Neighbourhood   110527 non-null  |S26  \n",
      " 7   Scholarship     110527 non-null  int64 \n",
      " 8   Hypertension    110527 non-null  int64 \n",
      " 9   Diabetes        110527 non-null  int64 \n",
      " 10  Alcoholism      110527 non-null  int64 \n",
      " 11  Handicap        110527 non-null  int64 \n",
      " 12  SMS_received    110527 non-null  int64 \n",
      " 13  Noshow          110527 non-null  |S3   \n",
      " 14  Noshow2         110527 non-null  int64 \n",
      "dtypes: bytes168(1), bytes208(1), bytes24(1), bytes256(1), bytes8(1), int64(8), object(2)\n",
      "memory usage: 17.2+ MB\n"
     ]
    }
   ],
   "source": [
    "#The name No-show is causing issues because of the dash. This will rename the column in the existing dataframe.\n",
    "#Then object type can be change to string, and clean up can be done.\n",
    "#Once complete, we will run info to verify it is complete. \n",
    "df_noshow.rename(columns = {'No-show' : 'Noshow' , 'Hipertension':'Hypertension', 'Handcap':'Handicap'}, inplace = True )\n",
    "df_noshow[\"Noshow\"] = change_var_type(\"Noshow\", 'string')\n",
    "df_noshow.info()"
   ]
  },
  {
   "cell_type": "markdown",
   "metadata": {},
   "source": [
    "<a id='BadData'></a>\n",
    "### Find and Clean Bad Data\n",
    "> This section will review the data to find and clean up data that is not valid. <br>\n",
    "> First, a review of some statistics will help to find the issue."
   ]
  },
  {
   "cell_type": "code",
   "execution_count": 10,
   "metadata": {},
   "outputs": [
    {
     "data": {
      "text/html": [
       "<div>\n",
       "<style scoped>\n",
       "    .dataframe tbody tr th:only-of-type {\n",
       "        vertical-align: middle;\n",
       "    }\n",
       "\n",
       "    .dataframe tbody tr th {\n",
       "        vertical-align: top;\n",
       "    }\n",
       "\n",
       "    .dataframe thead th {\n",
       "        text-align: right;\n",
       "    }\n",
       "</style>\n",
       "<table border=\"1\" class=\"dataframe\">\n",
       "  <thead>\n",
       "    <tr style=\"text-align: right;\">\n",
       "      <th></th>\n",
       "      <th>Age</th>\n",
       "      <th>Scholarship</th>\n",
       "      <th>Hypertension</th>\n",
       "      <th>Diabetes</th>\n",
       "      <th>Alcoholism</th>\n",
       "      <th>Handicap</th>\n",
       "      <th>SMS_received</th>\n",
       "      <th>Noshow2</th>\n",
       "    </tr>\n",
       "  </thead>\n",
       "  <tbody>\n",
       "    <tr>\n",
       "      <th>count</th>\n",
       "      <td>110527.000000</td>\n",
       "      <td>110527.000000</td>\n",
       "      <td>110527.000000</td>\n",
       "      <td>110527.000000</td>\n",
       "      <td>110527.000000</td>\n",
       "      <td>110527.000000</td>\n",
       "      <td>110527.000000</td>\n",
       "      <td>110527.000000</td>\n",
       "    </tr>\n",
       "    <tr>\n",
       "      <th>mean</th>\n",
       "      <td>37.088874</td>\n",
       "      <td>0.098266</td>\n",
       "      <td>0.197246</td>\n",
       "      <td>0.071865</td>\n",
       "      <td>0.030400</td>\n",
       "      <td>0.022248</td>\n",
       "      <td>0.321026</td>\n",
       "      <td>0.201933</td>\n",
       "    </tr>\n",
       "    <tr>\n",
       "      <th>std</th>\n",
       "      <td>23.110205</td>\n",
       "      <td>0.297675</td>\n",
       "      <td>0.397921</td>\n",
       "      <td>0.258265</td>\n",
       "      <td>0.171686</td>\n",
       "      <td>0.161543</td>\n",
       "      <td>0.466873</td>\n",
       "      <td>0.401444</td>\n",
       "    </tr>\n",
       "    <tr>\n",
       "      <th>min</th>\n",
       "      <td>-1.000000</td>\n",
       "      <td>0.000000</td>\n",
       "      <td>0.000000</td>\n",
       "      <td>0.000000</td>\n",
       "      <td>0.000000</td>\n",
       "      <td>0.000000</td>\n",
       "      <td>0.000000</td>\n",
       "      <td>0.000000</td>\n",
       "    </tr>\n",
       "    <tr>\n",
       "      <th>25%</th>\n",
       "      <td>18.000000</td>\n",
       "      <td>0.000000</td>\n",
       "      <td>0.000000</td>\n",
       "      <td>0.000000</td>\n",
       "      <td>0.000000</td>\n",
       "      <td>0.000000</td>\n",
       "      <td>0.000000</td>\n",
       "      <td>0.000000</td>\n",
       "    </tr>\n",
       "    <tr>\n",
       "      <th>50%</th>\n",
       "      <td>37.000000</td>\n",
       "      <td>0.000000</td>\n",
       "      <td>0.000000</td>\n",
       "      <td>0.000000</td>\n",
       "      <td>0.000000</td>\n",
       "      <td>0.000000</td>\n",
       "      <td>0.000000</td>\n",
       "      <td>0.000000</td>\n",
       "    </tr>\n",
       "    <tr>\n",
       "      <th>75%</th>\n",
       "      <td>55.000000</td>\n",
       "      <td>0.000000</td>\n",
       "      <td>0.000000</td>\n",
       "      <td>0.000000</td>\n",
       "      <td>0.000000</td>\n",
       "      <td>0.000000</td>\n",
       "      <td>1.000000</td>\n",
       "      <td>0.000000</td>\n",
       "    </tr>\n",
       "    <tr>\n",
       "      <th>max</th>\n",
       "      <td>115.000000</td>\n",
       "      <td>1.000000</td>\n",
       "      <td>1.000000</td>\n",
       "      <td>1.000000</td>\n",
       "      <td>1.000000</td>\n",
       "      <td>4.000000</td>\n",
       "      <td>1.000000</td>\n",
       "      <td>1.000000</td>\n",
       "    </tr>\n",
       "  </tbody>\n",
       "</table>\n",
       "</div>"
      ],
      "text/plain": [
       "                 Age    Scholarship   Hypertension       Diabetes  \\\n",
       "count  110527.000000  110527.000000  110527.000000  110527.000000   \n",
       "mean       37.088874       0.098266       0.197246       0.071865   \n",
       "std        23.110205       0.297675       0.397921       0.258265   \n",
       "min        -1.000000       0.000000       0.000000       0.000000   \n",
       "25%        18.000000       0.000000       0.000000       0.000000   \n",
       "50%        37.000000       0.000000       0.000000       0.000000   \n",
       "75%        55.000000       0.000000       0.000000       0.000000   \n",
       "max       115.000000       1.000000       1.000000       1.000000   \n",
       "\n",
       "          Alcoholism       Handicap   SMS_received        Noshow2  \n",
       "count  110527.000000  110527.000000  110527.000000  110527.000000  \n",
       "mean        0.030400       0.022248       0.321026       0.201933  \n",
       "std         0.171686       0.161543       0.466873       0.401444  \n",
       "min         0.000000       0.000000       0.000000       0.000000  \n",
       "25%         0.000000       0.000000       0.000000       0.000000  \n",
       "50%         0.000000       0.000000       0.000000       0.000000  \n",
       "75%         0.000000       0.000000       1.000000       0.000000  \n",
       "max         1.000000       4.000000       1.000000       1.000000  "
      ]
     },
     "execution_count": 10,
     "metadata": {},
     "output_type": "execute_result"
    }
   ],
   "source": [
    "# Review some statistics on the data frame.\n",
    "\n",
    "df_noshow.describe()"
   ]
  },
  {
   "cell_type": "markdown",
   "metadata": {},
   "source": [
    "> There are no null values to be concerned with, but the minimum age is listed as a -1. <br>\n",
    "> Because the data set is large, it makes more sense to delete it than to put in an average value, or guess the typo.<br>\n",
    "> Then display the minimum age again to make sure they are all 0 or over.<br>"
   ]
  },
  {
   "cell_type": "code",
   "execution_count": 11,
   "metadata": {},
   "outputs": [
    {
     "name": "stdout",
     "output_type": "stream",
     "text": [
      "Minimum Age:  0\n"
     ]
    }
   ],
   "source": [
    "#Loop through the values and make sure that any values less than 0 will be deleted. This will alter the original data frame.\n",
    "\n",
    "for x in df_noshow.index:\n",
    "    if df_noshow.loc[x, \"Age\"] < 0:\n",
    "        df_noshow.drop(x, inplace=True)\n",
    "print(\"Minimum Age: \" , df_noshow[\"Age\"].min())\n"
   ]
  },
  {
   "cell_type": "markdown",
   "metadata": {},
   "source": [
    "<a id='eda'></a>\n",
    "## Exploratory Data Analysis\n",
    "\n",
    "> This section will explore the data set and look for insights in the data. Because this has not been tested with a scientific experiment, this section cannot state causation between variables. It will explore three questions and show the correlations and more ideas to explore. \n"
   ]
  },
  {
   "cell_type": "markdown",
   "metadata": {},
   "source": [
    "#### Correlation and the Variables\n",
    ">First, let's explore correlation between different variables. The independent variable is if the patient showed up for their  appointment or not. The dependent variables include alcoholism, gender, various diseases and conditions, and age. <br>\n",
    ">The correlation function can be used to get a quick look at all the numberical variables. "
   ]
  },
  {
   "cell_type": "markdown",
   "metadata": {},
   "source": [
    ">From the Statology website listed below, this explains the strength of the relationships in the tables and heat maps in the next two sections.\n",
    "> If we take the absolute value less than .25 is considered to have no relationship.<br>\n",
    "> A weak relationship would be less than .5, but greater than .25 <br>\n",
    "> A moderate relationship should be between .5 and .75 <br>\n",
    "> A strong relationship will be over .75 <br>\n",
    "https://www.statology.org/what-is-a-strong-correlation/\n",
    "\n",
    "> For the correlation function, a 1 is a perfect relationship, and it will be a one when compared with itself."
   ]
  },
  {
   "cell_type": "code",
   "execution_count": 13,
   "metadata": {},
   "outputs": [
    {
     "data": {
      "text/html": [
       "<div>\n",
       "<style scoped>\n",
       "    .dataframe tbody tr th:only-of-type {\n",
       "        vertical-align: middle;\n",
       "    }\n",
       "\n",
       "    .dataframe tbody tr th {\n",
       "        vertical-align: top;\n",
       "    }\n",
       "\n",
       "    .dataframe thead th {\n",
       "        text-align: right;\n",
       "    }\n",
       "</style>\n",
       "<table border=\"1\" class=\"dataframe\">\n",
       "  <thead>\n",
       "    <tr style=\"text-align: right;\">\n",
       "      <th></th>\n",
       "      <th>Age</th>\n",
       "      <th>Scholarship</th>\n",
       "      <th>Hypertension</th>\n",
       "      <th>Diabetes</th>\n",
       "      <th>Alcoholism</th>\n",
       "      <th>Handicap</th>\n",
       "      <th>SMS_received</th>\n",
       "      <th>Noshow2</th>\n",
       "    </tr>\n",
       "  </thead>\n",
       "  <tbody>\n",
       "    <tr>\n",
       "      <th>Age</th>\n",
       "      <td>1.000000</td>\n",
       "      <td>-0.092463</td>\n",
       "      <td>0.504586</td>\n",
       "      <td>0.292391</td>\n",
       "      <td>0.095810</td>\n",
       "      <td>0.078032</td>\n",
       "      <td>0.012633</td>\n",
       "      <td>-0.060327</td>\n",
       "    </tr>\n",
       "    <tr>\n",
       "      <th>Scholarship</th>\n",
       "      <td>-0.092463</td>\n",
       "      <td>1.000000</td>\n",
       "      <td>-0.019730</td>\n",
       "      <td>-0.024894</td>\n",
       "      <td>0.035022</td>\n",
       "      <td>-0.008587</td>\n",
       "      <td>0.001192</td>\n",
       "      <td>0.029134</td>\n",
       "    </tr>\n",
       "    <tr>\n",
       "      <th>Hypertension</th>\n",
       "      <td>0.504586</td>\n",
       "      <td>-0.019730</td>\n",
       "      <td>1.000000</td>\n",
       "      <td>0.433085</td>\n",
       "      <td>0.087970</td>\n",
       "      <td>0.080083</td>\n",
       "      <td>-0.006270</td>\n",
       "      <td>-0.035704</td>\n",
       "    </tr>\n",
       "    <tr>\n",
       "      <th>Diabetes</th>\n",
       "      <td>0.292391</td>\n",
       "      <td>-0.024894</td>\n",
       "      <td>0.433085</td>\n",
       "      <td>1.000000</td>\n",
       "      <td>0.018473</td>\n",
       "      <td>0.057530</td>\n",
       "      <td>-0.014552</td>\n",
       "      <td>-0.015181</td>\n",
       "    </tr>\n",
       "    <tr>\n",
       "      <th>Alcoholism</th>\n",
       "      <td>0.095810</td>\n",
       "      <td>0.035022</td>\n",
       "      <td>0.087970</td>\n",
       "      <td>0.018473</td>\n",
       "      <td>1.000000</td>\n",
       "      <td>0.004647</td>\n",
       "      <td>-0.026149</td>\n",
       "      <td>-0.000197</td>\n",
       "    </tr>\n",
       "    <tr>\n",
       "      <th>Handicap</th>\n",
       "      <td>0.078032</td>\n",
       "      <td>-0.008587</td>\n",
       "      <td>0.080083</td>\n",
       "      <td>0.057530</td>\n",
       "      <td>0.004647</td>\n",
       "      <td>1.000000</td>\n",
       "      <td>-0.024162</td>\n",
       "      <td>-0.006077</td>\n",
       "    </tr>\n",
       "    <tr>\n",
       "      <th>SMS_received</th>\n",
       "      <td>0.012633</td>\n",
       "      <td>0.001192</td>\n",
       "      <td>-0.006270</td>\n",
       "      <td>-0.014552</td>\n",
       "      <td>-0.026149</td>\n",
       "      <td>-0.024162</td>\n",
       "      <td>1.000000</td>\n",
       "      <td>0.126428</td>\n",
       "    </tr>\n",
       "    <tr>\n",
       "      <th>Noshow2</th>\n",
       "      <td>-0.060327</td>\n",
       "      <td>0.029134</td>\n",
       "      <td>-0.035704</td>\n",
       "      <td>-0.015181</td>\n",
       "      <td>-0.000197</td>\n",
       "      <td>-0.006077</td>\n",
       "      <td>0.126428</td>\n",
       "      <td>1.000000</td>\n",
       "    </tr>\n",
       "  </tbody>\n",
       "</table>\n",
       "</div>"
      ],
      "text/plain": [
       "                   Age  Scholarship  Hypertension  Diabetes  Alcoholism  \\\n",
       "Age           1.000000    -0.092463      0.504586  0.292391    0.095810   \n",
       "Scholarship  -0.092463     1.000000     -0.019730 -0.024894    0.035022   \n",
       "Hypertension  0.504586    -0.019730      1.000000  0.433085    0.087970   \n",
       "Diabetes      0.292391    -0.024894      0.433085  1.000000    0.018473   \n",
       "Alcoholism    0.095810     0.035022      0.087970  0.018473    1.000000   \n",
       "Handicap      0.078032    -0.008587      0.080083  0.057530    0.004647   \n",
       "SMS_received  0.012633     0.001192     -0.006270 -0.014552   -0.026149   \n",
       "Noshow2      -0.060327     0.029134     -0.035704 -0.015181   -0.000197   \n",
       "\n",
       "              Handicap  SMS_received   Noshow2  \n",
       "Age           0.078032      0.012633 -0.060327  \n",
       "Scholarship  -0.008587      0.001192  0.029134  \n",
       "Hypertension  0.080083     -0.006270 -0.035704  \n",
       "Diabetes      0.057530     -0.014552 -0.015181  \n",
       "Alcoholism    0.004647     -0.026149 -0.000197  \n",
       "Handicap      1.000000     -0.024162 -0.006077  \n",
       "SMS_received -0.024162      1.000000  0.126428  \n",
       "Noshow2      -0.006077      0.126428  1.000000  "
      ]
     },
     "execution_count": 13,
     "metadata": {},
     "output_type": "execute_result"
    }
   ],
   "source": [
    "# Show the correlation between variables. \n",
    "df_noshow.corr()\n"
   ]
  },
  {
   "cell_type": "markdown",
   "metadata": {},
   "source": [
    "### Research Question 1: Alcoholism\n",
    "#### Are Alcoholics More Likely to Miss Their Appointments?  "
   ]
  },
  {
   "cell_type": "markdown",
   "metadata": {},
   "source": [
    ">Per the Valley Hope website listed below, two symptoms of being an alcoholic are \"Drinking at inappropriate times or alone.\"\n",
    "> and \"Drinking with the intention of getting drunk.\"<br>\n",
    ">Because someone that suffers from alcoholism may be drinking at inappropriate times, and could be at a level of intoxication, it could be unsafe for them to drive to appointments. They may also feel ashamed, or be worried about being judged by the Dr. This will use a heat map to quickly consume the data listed in the table above.\n",
    "\n",
    "https://valleyhope.org/am-i-an-alcoholic/?gclid=Cj0KCQjwtMCKBhDAARIsAG-2Eu-fbNnCXP2UDs3qlLtZmKwl6isq0sZilas442qdDCb1pMOofD1rTQQaAklFEALw_wcB"
   ]
  },
  {
   "cell_type": "code",
   "execution_count": 14,
   "metadata": {},
   "outputs": [
    {
     "data": {
      "image/png": "[encoded data removed]",
      "text/plain": [
       "<Figure size 720x576 with 2 Axes>"
      ]
     },
     "metadata": {
      "needs_background": "light"
     },
     "output_type": "display_data"
    }
   ],
   "source": [
    "#Research question 1- Heat map to show correlation between alcoholism.\n",
    "f, ax = plt.subplots(figsize= (10,8))\n",
    "corr = df_noshow.corr()\n",
    "sns.heatmap(corr, mask=np.zeros_like(corr, dtype= bool) , cmap= sns.diverging_palette(220, 10, as_cmap = True), square = True, ax= ax)\n",
    "plt.title(\"Correlation on Appointment Data\")\n",
    "plt.ylabel(\"Patient Variables\")\n",
    "plt.xlabel(\"Patient Variables\")\n",
    "plt.show()\n",
    "\n"
   ]
  },
  {
   "cell_type": "markdown",
   "metadata": {},
   "source": [
    ">Surprisingly, there is no relationship between not showing up for appointments and suffering from alcoholism. \n",
    ">There does seem to be a weak to modeate relationship between hypertension and diabetes, and a moderate relationship between age and hypertension. These could be investigated at another time. "
   ]
  },
  {
   "cell_type": "markdown",
   "metadata": {},
   "source": [
    "### Research Question 2: Age\n",
    "#### What age ranges are most likely to miss appointments? "
   ]
  },
  {
   "cell_type": "markdown",
   "metadata": {},
   "source": [
    ">Those very young or very old would have to rely on others for rides. There are other differences between age groups as well, so let's explore the data to see which age groups tend to miss the most appointments. "
   ]
  },
  {
   "cell_type": "code",
   "execution_count": 15,
   "metadata": {},
   "outputs": [
    {
     "name": "stdout",
     "output_type": "stream",
     "text": [
      "Total Missed Appointments:  22319\n"
     ]
    }
   ],
   "source": [
    "# Make a new dataframe consisting of only the no show appointments.\n",
    "i = 0\n",
    "df_noshow_appointments = pd.DataFrame()\n",
    "appointment_list = [1]\n",
    "df_noshow_appointments = df_noshow[df_noshow.Noshow2.isin(appointment_list)]\n",
    "\n",
    "print(\"Total Missed Appointments: \", len(df_noshow_appointments))"
   ]
  },
  {
   "cell_type": "code",
   "execution_count": 16,
   "metadata": {},
   "outputs": [
    {
     "data": {
      "image/png": "[encoded data removed]",
      "text/plain": [
       "<Figure size 432x288 with 1 Axes>"
      ]
     },
     "metadata": {
      "needs_background": "light"
     },
     "output_type": "display_data"
    },
    {
     "data": {
      "image/png": "[encoded data removed]",
      "text/plain": [
       "<Figure size 432x288 with 1 Axes>"
      ]
     },
     "metadata": {
      "needs_background": "light"
     },
     "output_type": "display_data"
    }
   ],
   "source": [
    "#Histogram to show only missed appointments.\n",
    "df_noshow_appointments.plot(kind='hist', y = 'Age', x='Noshow', bins = 11)\n",
    "plt.title('Age Ranges of Missed Appointments')\n",
    "plt.xlabel(\"Age\")\n",
    "plt.show()\n",
    "\n",
    "\n",
    "#Histogram to show ages of all appointments mage\n",
    "\n",
    "df_noshow.plot(kind='hist', y = 'Age', x ='Noshow', bins = 11)\n",
    "plt.title('Age Ranges of All Appointments')\n",
    "plt.xlabel(\"Age\")\n",
    "plt.show()\n"
   ]
  },
  {
   "cell_type": "markdown",
   "metadata": {},
   "source": [
    ">The first histogram shows that there are higher frequencies of missed appointments for all age buckets for patients 0-10 and 20-30. When looking at the entire dataset by age, it shows that children ages 0-10 have a higher number of appointments overall, so it makes sense that they would miss more. However, the 20-30 group, while on the larger size, seems to have a large amount of missed appointments in comparison with total appointments. This should be explored further, but the doctor's staff could set up an experiment to see if additional SMS message warnings would help to have less no shows. "
   ]
  },
  {
   "cell_type": "markdown",
   "metadata": {},
   "source": [
    "### Research Question 3: Gender\n",
    "#### Does one gender miss more appointments than the other?"
   ]
  },
  {
   "cell_type": "markdown",
   "metadata": {},
   "source": [
    "> Finally, this will explore whether or not one gender is canceling more appointments than the other. This will use a bar chart to count the missed appointments by gender. "
   ]
  },
  {
   "cell_type": "code",
   "execution_count": 17,
   "metadata": {},
   "outputs": [
    {
     "data": {
      "image/png": "[encoded data removed]",
      "text/plain": [
       "<Figure size 432x288 with 1 Axes>"
      ]
     },
     "metadata": {
      "needs_background": "light"
     },
     "output_type": "display_data"
    },
    {
     "name": "stdout",
     "output_type": "stream",
     "text": [
      "Total Appointments for Females:  71839\n",
      "Total Appointments for Males:  38687\n",
      "Ratio for Missed Appointment Females:  0.20314870752655242\n",
      "Ratio for Missed Appointment Males:  0.19967947889471915\n"
     ]
    }
   ],
   "source": [
    "#Female vs. Male appointments\n",
    "Genderindexes_NoShow = df_noshow_appointments['Gender'].value_counts().index.tolist()\n",
    "Gendercount_NoShow = df_noshow_appointments['Gender'].value_counts().values.tolist()\n",
    "\n",
    "\n",
    "plt.bar(Genderindexes_NoShow, Gendercount_NoShow, color='r', label='Missed Appointments')\n",
    "plt.title(\"Appointments Missed by Gender\")\n",
    "plt.xlabel(\"Gender\")\n",
    "plt.ylabel(\"Number of Missed Appointments\")\n",
    "plt.legend()\n",
    "plt.show()\n",
    "\n",
    "Genderindexes_All = df_noshow['Gender'].value_counts().index.tolist()\n",
    "Gendercount_All = df_noshow['Gender'].value_counts().values.tolist()\n",
    "print('Total Appointments for Females: ' , Gendercount_All[0])\n",
    "print('Total Appointments for Males: ' , Gendercount_All[1])\n",
    "\n",
    "def ratio_Missed(indexnum):\n",
    "    my_ratio = Gendercount_NoShow[indexnum] / Gendercount_All[indexnum]\n",
    "    return my_ratio\n",
    "\n",
    "print(\"Ratio for Missed Appointment Females: \" , ratio_Missed(0))\n",
    "print(\"Ratio for Missed Appointment Males: \" , ratio_Missed(1))\n",
    "    "
   ]
  },
  {
   "cell_type": "markdown",
   "metadata": {},
   "source": [
    ">Although females appear to miss a lot more appointments than men, when comparing the amount of missed appointments to total appointments, they are both missing about one in five appointments, with men just a small amount less."
   ]
  },
  {
   "cell_type": "markdown",
   "metadata": {},
   "source": [
    "<a id='conclusions'></a>\n",
    "## Conclusions\n",
    "\n",
    ">    This dataset was imported into a pandas dataset and then cleaned. The cleansing involved removing bad data in the form of a negative age, a symbol in a column, and non-ascii characters. It also involved changing the data types and formatting the no show column to be able to demonstrate correlations. <br>\n",
    ">    The data was explored for correlations, and no strong correlations were found between the variables and missing an appointment. People with alcoholism do not miss a significant amount of appointments less or more than people without that condition. Gender seems to have no correlation with missed appointments, though in this dataset, more females book appointments than males. In addition, while age did not have a correlation to missed appointments, the doctors' office may want to experiment on ways to target the 20-30 age range, since they missed a larger percentage of their appointments. Causation cannot be determined at this time. \n",
    ">\n",
    "### Limitations\n",
    ">Some of the limitations included were that the younger ages and oldest ages could not bring themselves to the appointment. Another analysis could be done eliminating those ranges, or also considering the information on the person responsible for bringing them. "
   ]
  },
  {
   "cell_type": "markdown",
   "metadata": {},
   "source": [
    "### Sites and Materials Referenced:\n",
    "\n",
    ">W3 Schools <br>\n",
    ">\"Python All-In-One for Dummies\" <br>\n",
    "https://www.kite.com/python/answers/how-to-convert-a-column-of-objects-to-strings-in-a-pandas-dataframe-in-python\n",
    "https://datatofish.com/string-to-integer-dataframe/\n",
    "https://pandas.pydata.org/pandas-docs/stable/reference/api/pandas.Series.map.#\n",
    "https://www.geeksforgeeks.org/how-to-rename-columns-in-pandas-dataframe/\n",
    "https://www.youtube.com/watch?v=71FoexyFCXE\n",
    "https://www.askpython.com/python/examples/subset-a-dataframe\n",
    "https://newbedev.com/remove-non-ascii-characters-from-pandas-column\n",
    "https://www.statology.org/what-is-a-strong-correlation/\n",
    "https://www.python-graph-gallery.com/4-add-title-and-axis-label\n",
    "https://www.geeksforgeeks.org/create-a-stacked-bar-plot-in-matplotlib/\n",
    "https://valleyhope.org/am-i-an-alcoholic/?gclid=Cj0KCQjwtMCKBhDAARIsAG-2Eu-fbNnCXP2UDs3qlLtZmKwl6isq0sZilas442qdDCb1pMOofD1rTQQaAklFEALw_wcB\n"
   ]
  },
  {
   "cell_type": "markdown",
   "metadata": {
    "collapsed": true
   },
   "source": [
    "###### Kristin Lynch 9/26/21"
   ]
  }
 ],
 "metadata": {
  "kernelspec": {
   "display_name": "Python 3 (ipykernel)",
   "language": "python",
   "name": "python3"
  },
  "language_info": {
   "codemirror_mode": {
    "name": "ipython",
    "version": 3
   },
   "file_extension": ".py",
   "mimetype": "text/x-python",
   "name": "python",
   "nbconvert_exporter": "python",
   "pygments_lexer": "ipython3",
   "version": "3.8.11"
  }
 },
 "nbformat": 4,
 "nbformat_minor": 2
}
